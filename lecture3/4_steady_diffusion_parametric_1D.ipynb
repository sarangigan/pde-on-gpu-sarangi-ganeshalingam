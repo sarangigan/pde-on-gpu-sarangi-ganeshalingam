{
 "cells": [
  {
   "cell_type": "code",
   "execution_count": 3,
   "id": "5304131c-560d-47dd-acf4-b88210eee386",
   "metadata": {
    "tags": []
   },
   "outputs": [
    {
     "data": {
      "text/plain": [
       "\"/home/jovyan/assignments/homework-3-Sarangi Ganeshalingam/plot4.png\""
      ]
     },
     "execution_count": 3,
     "metadata": {},
     "output_type": "execute_result"
    }
   ],
   "source": [
    "using Plots, Plots.Measures, Printf\n",
    "\n",
    "default(size=(1200, 800), framestyle=:box, label=false, grid=false, margin=10mm, lw=6, labelfontsize=20, tickfontsize=20, titlefontsize=24)\n",
    "\n",
    "@views function steady_diffusion_1D()\n",
    "    # physics\n",
    "    lx      = 20.0\n",
    "    dc      = 1.0\n",
    "    # numerics\n",
    "    nx      = 100\n",
    "    ϵtol    = 1e-8\n",
    "    maxiter = 100nx\n",
    "    ncheck  = ceil(Int, 0.25nx)\n",
    "    fact = 0.5:0.1:1.5\n",
    "    conv = zeros(size(fact))\n",
    "    # derived numerics\n",
    "    dx      = lx / nx\n",
    "    xc      = LinRange(dx / 2, lx - dx / 2, nx)\n",
    "    \n",
    "    for ifact in eachindex(fact)\n",
    "        re = 2π*fact[ifact]\n",
    "        ρ  = (lx/(dc*re))^2\n",
    "        dτ = dx / sqrt(1 / ρ)\n",
    "        # array initialisation\n",
    "        C       = @. 1.0 + exp(-(xc - lx / 4)^2) - xc / lx\n",
    "        C_i     = copy(C)\n",
    "        qx      = zeros(Float64, nx - 1)\n",
    "        # iteration loop\n",
    "        iter = 1; err = 2ϵtol; iter_evo = Float64[]; err_evo = Float64[]\n",
    "        while err >= ϵtol && iter <= maxiter\n",
    "            qx         .-= dτ ./ (ρ * dc .+ dτ) .* (qx .+ dc .* diff(C) ./ dx)\n",
    "            C[2:end-1] .-= dτ .* diff(qx) ./ dx\n",
    "            if iter % ncheck == 0\n",
    "                err = maximum(abs.(diff(dc .* diff(C) ./ dx) ./ dx))\n",
    "                push!(iter_evo, iter / nx); push!(err_evo, err)\n",
    "            end\n",
    "            iter += 1\n",
    "        end\n",
    "        # Store the iter/nx value in conv[ifact]\n",
    "        conv[ifact] = iter_evo[end]\n",
    "    end\n",
    "    \n",
    "    # Plotting conv vs fact\n",
    "    plot(fact, conv, xlabel=\"fact\", ylabel=\"conv\", legend=true)\n",
    "    savefig(\"plot4.png\")\n",
    "end\n",
    "\n",
    "\n",
    "steady_diffusion_1D()\n"
   ]
  },
  {
   "cell_type": "code",
   "execution_count": null,
   "id": "6a66ffc7-dcd2-40c3-ba55-9c8fc8e59b85",
   "metadata": {},
   "outputs": [],
   "source": []
  }
 ],
 "metadata": {
  "kernelspec": {
   "display_name": "Julia 1.8.3",
   "language": "julia",
   "name": "julia-1.8"
  },
  "language_info": {
   "file_extension": ".jl",
   "mimetype": "application/julia",
   "name": "julia",
   "version": "1.8.3"
  }
 },
 "nbformat": 4,
 "nbformat_minor": 5
}
